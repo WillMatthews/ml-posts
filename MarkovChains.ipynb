{
 "cells": [
  {
   "cell_type": "markdown",
   "id": "e0a0fbd1-53ce-4472-82d3-dc969475464e",
   "metadata": {},
   "source": [
    "# Markov Chains Rock"
   ]
  },
  {
   "cell_type": "markdown",
   "id": "af4cdbdc-7789-4854-aaef-ffc1fc6ecb71",
   "metadata": {},
   "source": [
    "A markov chain is a blah blah blah"
   ]
  },
  {
   "cell_type": "markdown",
   "id": "a0a8fa6d-9edd-49ad-a342-acd162818817",
   "metadata": {},
   "source": [
    "\n",
    "Markov matrices, also known as [stochastic matrices](https://en.wikipedia.org/wiki/Stochastic_matrix)\n",
    "\n",
    "It can be described by a matrix\n",
    "\n",
    "\n",
    "\n",
    "x = M x "
   ]
  },
  {
   "cell_type": "markdown",
   "id": "63bf1da6-3d7c-4a24-ae3c-bc3c4c269439",
   "metadata": {},
   "source": [
    "In his 1948 paper, [*A mathematical theory of communication.*](https://people.math.harvard.edu/~ctm/home/text/others/shannon/entropy/entropy.pdf), Claude Shannon identified a method of genering text using Markov Chains - specifically using n-grams.\n",
    "\n",
    "\n",
    "\n",
    "Here's one I made earlier. In fact, let's test it out - we shall try to generate [Moby Dick](https://www.gutenberg.org/ebooks/15) as from project Gutenberg.\n",
    "\n",
    "First I clean it up to remove copyright markings, and then train the model.\n"
   ]
  },
  {
   "cell_type": "code",
   "execution_count": 70,
   "id": "0a17b7ee-4702-4bbc-b32b-5e879905b2e6",
   "metadata": {},
   "outputs": [],
   "source": [
    "import collections, random, sys, textwrap, urllib\n",
    "\n",
    "N = 2 # n-gram size\n",
    "\n",
    "def circ(words, word):\n",
    "    \"\"\"pop first element and push `word` onto the end\"\"\"\n",
    "    words.pop(0)\n",
    "    words.append(word)"
   ]
  },
  {
   "cell_type": "markdown",
   "id": "b4393446-94a7-405e-b65c-e99e715ba288",
   "metadata": {},
   "source": [
    "## Training Data\n",
    "Get a data source. In this case, I will use Moby Dick"
   ]
  },
  {
   "cell_type": "code",
   "execution_count": 71,
   "id": "e4b500ac-6c60-4437-a040-c344fce40819",
   "metadata": {},
   "outputs": [],
   "source": [
    "target_url = \"https://courses.cs.washington.edu/courses/cse390c/22sp/lectures/moby.txt\"\n",
    "data = urllib.request.urlopen(target_url)"
   ]
  },
  {
   "cell_type": "markdown",
   "id": "537fdd37-e693-4ac9-8f0a-94614fafb413",
   "metadata": {},
   "source": [
    "## Training\n",
    "Training for the Markov chain is fundamentally the following;\n",
    "Build a table of possible grams, indexed by n-grams"
   ]
  },
  {
   "cell_type": "code",
   "execution_count": 72,
   "id": "3aa543bf-62e9-46b5-a4a0-618532cd1d9c",
   "metadata": {},
   "outputs": [],
   "source": [
    "ws = ['' for _ in range(N)]\n",
    "possibles = collections.defaultdict(list)\n",
    "for i, line in enumerate(data):\n",
    "    for word in line.split():\n",
    "        possibles[tuple(ws)].append(word)\n",
    "        circ(ws, word)\n",
    "\n",
    "# Avoid empty possibles lists at end of input\n",
    "possibles[tuple(ws)].append('')\n",
    "circ(ws,'')\n",
    "possibles[tuple(ws)].append('')"
   ]
  },
  {
   "cell_type": "code",
   "execution_count": 73,
   "id": "4f89c9b9-93a5-42a3-9930-52f69976bf39",
   "metadata": {},
   "outputs": [
    {
     "name": "stdout",
     "output_type": "stream",
     "text": [
      "The question is, what and where is the widow's last mite but a\n",
      "vertical, or up-and-down tail. Whereas, among spouting fish with a\n",
      "thought which somewhat explained all the added power of speed to rid\n",
      "himself of the Equator awhile, they start for the present day; though\n",
      "doubtless the original usage was introduced by an appointed hand, and\n",
      "leaping from their stationary fright. First, the whales had been four\n",
      "voyages in the former has an ill effect, giving its owner something\n",
      "analogous to the main-mast and the best authorities, he has never yet\n",
      "saw him standing in a hen-house. A few years ago an old established\n",
      "family in the land, the Van Rensselaers, or Randolphs, or\n",
      "Hardicanutes. And more than if he had already done so, and never will.\n",
      "But if such an eatable look that the digestive organs of the alleged\n",
      "uncleanliness of our going together among the boats; and one of our\n",
      "Lake Erie, Don; but- I crave your courtesy- may be, you shall soon\n",
      "hear further of all Polynesia confess the same opinion; so give the\n",
      "Pequod's sailing from home; all these, and death this old Ebony\n",
      "floundered along, and picking our teeth with halibut bones. CHAPTER 18\n",
      "His Mark As we were bosom friends; he would return,- as soon have\n",
      "falsified the evil portends preceding it. In this business of whaling.\n",
      "One day she saw spouts, lowered her boats; and though in the cabin to\n",
      "report a fair chance for his habitual gregarious resort. But further\n",
      "investigations have recently proved to him, where the chase against\n",
      "the spiles; some seated upon an iron-wood log, with one breath, he\n",
      "might now consider his father dead and stranded, with his steering oar\n",
      "as in the vicinity of that sort in the famous Gallipagos terrapin. For\n",
      "my humor's sake, I shall now simply point out the two parties; but at\n",
      "the present time, during which many profound thoughts were\n",
      "incidentally suggested to me, that I recall all the millions of ages\n",
      "before- the great world's loom, thy subtlest thinkings may be compared\n",
      "to a hypo, Ishmael. Tell me, when I consider this mighty monster is\n",
      "actually engaged this blessed Saturday night, or rather weight, that\n",
      "oil, in its dimensioned form does not reign but only grey imperfect\n",
      "misty dawn, when he received the two boats were made. But skilfully\n",
      "manoeuvred, incessantly wheeling like trained chargers in the more\n",
      "melancholy, was the object being this: to dart these drugged-harpoons,\n",
      "were it not so, O Morquan! King of Babylon; and to the imperilled\n",
      "harpooneer the strongest and most Christian and charitable way. I\n",
      "stood a little above the ship's time and place; and then putting\n",
      "Flask's hand on the larboard; did you ever see any parson a wearing\n",
      "mourning for the soul; opposed, in short, the bread from those who\n",
      "glared like devils in the other. There is a thing simply useful to\n",
      "him, where the convivial natives pledge each other as soon as he shot\n",
      "by; \"ye'll be picked up the floating body, and no one near him but his\n",
      "slave. Still again both seemed yoked together like colossal bullocks,\n",
      "whereof one reclines while the multitudes of sharks gather round the\n",
      "socket of the whaleman takes his proper business, but the Esquimaux\n",
      "are not other men, God pity his poor opinion, than all the while, drew\n",
      "nigh the water like a patent chronometer, his interior vitality was\n",
      "warranted to do with taking this fish?\" \"It is his.\" In a ship showing\n",
      "English colors, bearing down the forecastle and took Queequeg's\n",
      "measure with great expedition: when leaning back a column of Vendome\n",
      "stands with arms folded, some one or two of them in the world, the\n",
      "Dutch in De Witt's time have originated the most pugnacious of all\n",
      "brawniness, hint nothing of the Jeroboam, and a sunset. And that\n",
      "question once answered, pirates straightway steer apart, for they were\n",
      "going along wheeling the barrow by turns, and Queequeg now and then\n",
      "went about his having been before all human probability, will for ever\n",
      "got the start? Aye, he's chasing me now; not I, him- that's bad; I\n",
      "might have felt before; these were broken again by the mates. But once\n",
      "Tashtego's senior, an old doorway. The horns of the room light in one\n",
      "direction, he nevertheless, while concealed beneath the ship, the same\n",
      "with the massive curved blubber-hook, now clean and dry, was still in\n",
      "a tempest, and striving to escape being torn from its depths; what\n",
      "landsman would have bolted out of his eyes seemed whirling round in a\n",
      "sort of talk, now begat in me an uncomfortable feeling towards the\n",
      "taffrail, eyed the razors as though it be too much stiffen the whale-\n",
      "line near him. \"Mind he don't sleep then. Didn't that Dough-Boy, the\n",
      "steward, thrusting his head was just between\n"
     ]
    }
   ],
   "source": [
    "num_to_generate = 800\n",
    "\n",
    "# Generate randomized output (start with a random capitalized prefix)\n",
    "ws = list(random.choice([k for k in possibles if k[0][:1].isupper()]))\n",
    "output = list(ws)\n",
    "for _ in range(int(num_to_generate)):\n",
    "    word = random.choice(possibles[tuple(ws)])\n",
    "    output.append(word)\n",
    "    circ(ws, word)\n",
    "\n",
    "# Print output wrapped to 70 columns\n",
    "output = [o.decode(\"utf-8\") for o in output]\n",
    "print(textwrap.fill(' '.join(output)))"
   ]
  },
  {
   "cell_type": "markdown",
   "id": "54095fa2-b4fc-4a5d-bf6b-711d0ce72b59",
   "metadata": {},
   "source": [
    "Analysis"
   ]
  },
  {
   "cell_type": "markdown",
   "id": "9c29a457-bb88-4812-bc94-a87a5dbf1eae",
   "metadata": {},
   "source": [
    "What about images?\n",
    "\n",
    "\n",
    "There is a way to generate images with a markov-chain like system\n",
    "\n",
    "\n",
    "[Texture Synthesis by Non-parametric Sampling (Efros and Leung, 1999)](https://people.eecs.berkeley.edu/~efros/research/EfrosLeung.html) is an interesting solution to the problem of image generation.\n",
    "\n",
    "the paper is [available here](https://people.eecs.berkeley.edu/~efros/research/NPS/efros-iccv99.pdf)"
   ]
  },
  {
   "cell_type": "code",
   "execution_count": 76,
   "id": "28a5cd30-a6df-4673-be55-4385afe10d2c",
   "metadata": {},
   "outputs": [],
   "source": [
    "import numpy as np\n",
    "from scipy.ndimage import gaussian_filter, binary_dilation\n",
    "from scipy.spatial.distance import cdist\n",
    "import random\n",
    "\n",
    "# Constants\n",
    "ErrThreshold = 0.1\n",
    "MaxErrThreshold = 0.3\n",
    "WindowSize = 5  # Example window size, can be changed as needed\n",
    "Sigma = WindowSize / 6.4\n",
    "\n",
    "def GrowImage(SampleImage, Image, WindowSize):\n",
    "    MaxErrThreshold_local = MaxErrThreshold\n",
    "    while not np.all(Image != -1):  # Assuming unfilled pixels are marked with -1\n",
    "        progress = 0\n",
    "        PixelList = GetUnfilledNeighbors(Image)\n",
    "        for Pixel in PixelList:\n",
    "            Template = GetNeighborhoodWindow(Pixel, Image, WindowSize)\n",
    "            BestMatches = FindMatches(Template, SampleImage, WindowSize)\n",
    "            if BestMatches:\n",
    "                BestMatch = RandomPick(BestMatches)\n",
    "                if BestMatch['error'] < MaxErrThreshold_local:\n",
    "                    Image[Pixel[0], Pixel[1]] = BestMatch['value']\n",
    "                    progress = 1\n",
    "        if progress == 0:\n",
    "            MaxErrThreshold_local *= 1.1\n",
    "    return Image\n",
    "\n",
    "def GetUnfilledNeighbors(Image):\n",
    "    # Assuming unfilled pixels are marked with -1 and filled with other values\n",
    "    filled_mask = Image != -1\n",
    "    dilated_mask = binary_dilation(filled_mask)\n",
    "    border_mask = dilated_mask & ~filled_mask\n",
    "    unfilled_neighbors = np.argwhere(border_mask)\n",
    "    # Optionally, sort by the number of filled neighbors (not implemented here)\n",
    "    np.random.shuffle(unfilled_neighbors)  # Random permutation\n",
    "    return unfilled_neighbors\n",
    "\n",
    "\n",
    "def GetNeighborhoodWindow(Pixel, Image, WindowSize):\n",
    "    # Pad the image to handle edges\n",
    "    pad_width = WindowSize // 2\n",
    "    padded_image = np.pad(Image, pad_width, mode='constant', constant_values=-1)\n",
    "    # Adjust the pixel location for the padding\n",
    "    Pixel_padded = (Pixel[0] + pad_width, Pixel[1] + pad_width)\n",
    "    # Extract the window\n",
    "    window = padded_image[Pixel_padded[0]-pad_width:Pixel_padded[0]+pad_width+1, \n",
    "                          Pixel_padded[1]-pad_width:Pixel_padded[1]+pad_width+1]\n",
    "    return window\n",
    "\n",
    "\n",
    "def RandomPick(BestMatches):\n",
    "    return random.choice(BestMatches)\n",
    "\n",
    "def FindMatches(Template, SampleImage, WindowSize):\n",
    "    # Create the ValidMask\n",
    "    ValidMask = (Template != -1).astype(np.float32)\n",
    "    # Gaussian mask\n",
    "    GaussMask = Gaussian2D(WindowSize, Sigma)\n",
    "    TotWeight = np.sum(GaussMask * ValidMask)\n",
    "    \n",
    "    # Initialize SSD to a high value\n",
    "    SSD = np.full(SampleImage.shape, np.inf)\n",
    "    \n",
    "    # Iterate over SampleImage\n",
    "    for i in range(SampleImage.shape[0] - WindowSize + 1):\n",
    "        for j in range(SampleImage.shape[1] - WindowSize + 1):\n",
    "            # Extract window\n",
    "            window = SampleImage[i:i+WindowSize, j:j+WindowSize]\n",
    "            # Compute SSD\n",
    "            dist = (window - Template) ** 2\n",
    "            SSD[i,j] = np.sum(dist * ValidMask * GaussMask) / TotWeight\n",
    "    \n",
    "    # Find pixels with SSD less than the threshold\n",
    "    min_SSD = np.min(SSD[np.isfinite(SSD)])\n",
    "    threshold = min_SSD * (1 + ErrThreshold)\n",
    "    matches = np.argwhere(SSD <= threshold)\n",
    "    \n",
    "    # Construct a list of dictionaries for each match\n",
    "    BestMatches = [{'error': SSD[match[0], match[1]], 'value': SampleImage[match[0], match[1]]} for match in matches]\n",
    "    return BestMatches\n",
    "\n",
    "def Gaussian2D(WindowSize, Sigma):\n",
    "    ax = np.arange(-WindowSize // 2 + 1., WindowSize // 2 + 1.)\n",
    "    xx, yy = np.meshgrid(ax, ax)\n",
    "    kernel = np.exp(-(xx**2 + yy**2) / (2. * Sigma**2))\n",
    "    kernel = kernel / np.sum(kernel)\n",
    "    return kernel"
   ]
  },
  {
   "cell_type": "markdown",
   "id": "8983de21-f9a4-488d-9256-018a0762b322",
   "metadata": {},
   "source": [
    "analysis"
   ]
  },
  {
   "cell_type": "code",
   "execution_count": 82,
   "id": "68ea1820-a252-4c3b-aba4-fe3812bcc36f",
   "metadata": {},
   "outputs": [
    {
     "data": {
      "text/plain": [
       "<matplotlib.image.AxesImage at 0x7fb7dc6a08e0>"
      ]
     },
     "execution_count": 82,
     "metadata": {},
     "output_type": "execute_result"
    },
    {
     "data": {
      "image/png": "[encoded data removed]",
      "text/plain": [
       "<Figure size 432x288 with 1 Axes>"
      ]
     },
     "metadata": {
      "needs_background": "light"
     },
     "output_type": "display_data"
    }
   ],
   "source": [
    "# Example usage of GrowImage\n",
    "np.random.seed(42)  # For reproducibility\n",
    "\n",
    "# Generate a sample image (e.g., a simple gradient)\n",
    "SampleImage = np.linspace(0, 1, 100).reshape((10, 10))\n",
    "\n",
    "# Generate an initial image with a single seed value in the center\n",
    "Image = -np.ones_like(SampleImage)\n",
    "Image[5, 5] = SampleImage[5, 5]\n",
    "\n",
    "# Grow the image - this is the fun bit!\n",
    "y = list(SampleImage)\n",
    "GrownImage = GrowImage(SampleImage, Image, WindowSize)\n",
    "\n",
    "plt.imshow(GrownImage)"
   ]
  },
  {
   "cell_type": "code",
   "execution_count": null,
   "id": "dd3986b8-b170-48f6-ae07-bc24c50974bd",
   "metadata": {},
   "outputs": [],
   "source": []
  }
 ],
 "metadata": {
  "kernelspec": {
   "display_name": "Python 3 (ipykernel)",
   "language": "python",
   "name": "python3"
  },
  "language_info": {
   "codemirror_mode": {
    "name": "ipython",
    "version": 3
   },
   "file_extension": ".py",
   "mimetype": "text/x-python",
   "name": "python",
   "nbconvert_exporter": "python",
   "pygments_lexer": "ipython3",
   "version": "3.10.12"
  }
 },
 "nbformat": 4,
 "nbformat_minor": 5
}
