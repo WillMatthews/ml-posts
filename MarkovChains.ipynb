{
 "cells": [
  {
   "cell_type": "markdown",
   "id": "e0a0fbd1-53ce-4472-82d3-dc969475464e",
   "metadata": {},
   "source": [
    "# Markov Chains Rock"
   ]
  },
  {
   "cell_type": "markdown",
   "id": "af4cdbdc-7789-4854-aaef-ffc1fc6ecb71",
   "metadata": {},
   "source": [
    "A markov chain is a blah blah blah"
   ]
  },
  {
   "cell_type": "markdown",
   "id": "374366e1-b946-4ba6-a359-4b27487b60ab",
   "metadata": {},
   "source": [
    "Here's one I made earlier"
   ]
  },
  {
   "cell_type": "code",
   "execution_count": null,
   "id": "de32b0de-55fb-43e7-ab9c-4d0a590a2bdb",
   "metadata": {},
   "outputs": [],
   "source": [
    "import collections, random, sys, textwrap\n",
    "\n",
    "# Build possibles table indexed by pair of prefix words (w1, w2)\n",
    "w1 = w2 = ''\n",
    "possibles = collections.defaultdict(list)\n",
    "for line in sys.stdin:\n",
    "    for word in line.split():\n",
    "        possibles[w1, w2].append(word)\n",
    "        w1, w2 = w2, word\n",
    "\n",
    "# Avoid empty possibles lists at end of input\n",
    "possibles[w1, w2].append('')\n",
    "possibles[w2, ''].append('')\n",
    "\n",
    "# Generate randomized output (start with a random capitalized prefix)\n",
    "w1, w2 = random.choice([k for k in possibles if k[0][:1].isupper()])\n",
    "output = [w1, w2]\n",
    "for _ in range(int(sys.argv[1])):\n",
    "    word = random.choice(possibles[w1, w2])\n",
    "    output.append(word)\n",
    "    w1, w2 = w2, word\n",
    "\n",
    "# Print output wrapped to 70 columns\n",
    "print(textwrap.fill(' '.join(output)))\n"
   ]
  },
  {
   "cell_type": "markdown",
   "id": "63bf1da6-3d7c-4a24-ae3c-bc3c4c269439",
   "metadata": {},
   "source": [
    "Let's test it out - we shall try to generate [Moby Dick](https://www.gutenberg.org/ebooks/15) as from project Gutenberg.\n",
    "\n",
    "First I clean it up to remove copyright markings, and then train the model."
   ]
  },
  {
   "cell_type": "code",
   "execution_count": null,
   "id": "4f89c9b9-93a5-42a3-9930-52f69976bf39",
   "metadata": {},
   "outputs": [],
   "source": [
    "Output here"
   ]
  },
  {
   "cell_type": "code",
   "execution_count": null,
   "id": "e28192a3-1771-4a80-ae7e-7f86cda5f6f2",
   "metadata": {},
   "outputs": [],
   "source": [
    "Analysis"
   ]
  },
  {
   "cell_type": "code",
   "execution_count": null,
   "id": "f17e9a02-d6a4-4c12-8a70-ecbc32b1505c",
   "metadata": {},
   "outputs": [],
   "source": [
    "What about images?"
   ]
  },
  {
   "cell_type": "code",
   "execution_count": null,
   "id": "ecd3b836-e736-43c2-9621-d3a3bc0f2fad",
   "metadata": {},
   "outputs": [],
   "source": [
    "image model"
   ]
  },
  {
   "cell_type": "code",
   "execution_count": null,
   "id": "11295f66-c6a7-4dcb-8a08-fbd2dd508d52",
   "metadata": {},
   "outputs": [],
   "source": [
    "analsis"
   ]
  }
 ],
 "metadata": {
  "kernelspec": {
   "display_name": "Python 3 (ipykernel)",
   "language": "python",
   "name": "python3"
  },
  "language_info": {
   "codemirror_mode": {
    "name": "ipython",
    "version": 3
   },
   "file_extension": ".py",
   "mimetype": "text/x-python",
   "name": "python",
   "nbconvert_exporter": "python",
   "pygments_lexer": "ipython3",
   "version": "3.10.12"
  }
 },
 "nbformat": 4,
 "nbformat_minor": 5
}
