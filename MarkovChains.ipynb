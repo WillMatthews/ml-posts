{
 "cells": [
  {
   "cell_type": "markdown",
   "id": "e0a0fbd1-53ce-4472-82d3-dc969475464e",
   "metadata": {},
   "source": [
    "# Markov Chains Rock"
   ]
  },
  {
   "cell_type": "markdown",
   "id": "af4cdbdc-7789-4854-aaef-ffc1fc6ecb71",
   "metadata": {},
   "source": [
    "A markov chain is a blah blah blah"
   ]
  },
  {
   "cell_type": "markdown",
   "id": "63bf1da6-3d7c-4a24-ae3c-bc3c4c269439",
   "metadata": {},
   "source": [
    "Here's one I made earlier. In fact, let's test it out - we shall try to generate [Moby Dick](https://www.gutenberg.org/ebooks/15) as from project Gutenberg.\n",
    "\n",
    "First I clean it up to remove copyright markings, and then train the model.\n"
   ]
  },
  {
   "cell_type": "code",
   "execution_count": 42,
   "id": "0a17b7ee-4702-4bbc-b32b-5e879905b2e6",
   "metadata": {},
   "outputs": [
    {
     "name": "stdout",
     "output_type": "stream",
     "text": [
      "Ho, ho! from all your furthest bounds, pour ye now in, ye bold billows\n",
      "of my whole foregone life, and top this one piled comber of my death!\n",
      "Towards thee I roll, thou all-destroying but unconquering whale; to\n",
      "the last arrived harpooneers, I dare say, gay as a frigate's pennant,\n",
      "and so am I- fa, la! lirra, skirra! Oh- We'll drink to-night with\n",
      "hearts as light, To love, as gay and fleeting As bubbles that swim, on\n",
      "the beaker's brim, And break on the lips while meeting. A brave stave\n",
      "that- who calls? Mr. Starbuck? Aye, aye, sir- (Aside) he's my\n",
      "superior, he\n"
     ]
    }
   ],
   "source": [
    "import collections, random, sys, textwrap, urllib\n",
    "\n",
    "# n-gram size\n",
    "N = 3\n",
    "num_to_generate = 100\n",
    "target_url = \"https://courses.cs.washington.edu/courses/cse390c/22sp/lectures/moby.txt\"\n",
    "data = urllib.request.urlopen(target_url)\n",
    "\n",
    "def circ(words, word):\n",
    "    \"\"\"pop first element and push `word` onto the end\"\"\"\n",
    "    words.pop(0)\n",
    "    words.append(word)\n",
    "\n",
    "# TRAINING: Build a table of possible grams, indexed by n-grams\n",
    "ws = ['' for _ in range(N)]\n",
    "possibles = collections.defaultdict(list)\n",
    "for i, line in enumerate(data):\n",
    "    for word in line.split():\n",
    "        possibles[tuple(ws)].append(word)\n",
    "        circ(ws, word)\n",
    "\n",
    "# Avoid empty possibles lists at end of input\n",
    "possibles[tuple(ws)].append('')\n",
    "circ(ws,'')\n",
    "possibles[tuple(ws)].append('')\n",
    "\n",
    "# Generate randomized output (start with a random capitalized prefix)\n",
    "ws = list(random.choice([k for k in possibles if k[0][:1].isupper()]))\n",
    "output = list(ws)\n",
    "for _ in range(int(num_to_generate)):\n",
    "    word = random.choice(possibles[tuple(ws)])\n",
    "    output.append(word)\n",
    "    circ(ws, word)\n",
    "\n",
    "# Print output wrapped to 70 columns\n",
    "output = [o.decode(\"utf-8\") for o in output]\n",
    "print(textwrap.fill(' '.join(output)))"
   ]
  },
  {
   "cell_type": "code",
   "execution_count": null,
   "id": "4f89c9b9-93a5-42a3-9930-52f69976bf39",
   "metadata": {},
   "outputs": [],
   "source": []
  },
  {
   "cell_type": "code",
   "execution_count": null,
   "id": "e28192a3-1771-4a80-ae7e-7f86cda5f6f2",
   "metadata": {},
   "outputs": [],
   "source": [
    "Analysis"
   ]
  },
  {
   "cell_type": "code",
   "execution_count": null,
   "id": "f17e9a02-d6a4-4c12-8a70-ecbc32b1505c",
   "metadata": {},
   "outputs": [],
   "source": [
    "What about images?"
   ]
  },
  {
   "cell_type": "code",
   "execution_count": null,
   "id": "ecd3b836-e736-43c2-9621-d3a3bc0f2fad",
   "metadata": {},
   "outputs": [],
   "source": [
    "image model"
   ]
  },
  {
   "cell_type": "code",
   "execution_count": null,
   "id": "11295f66-c6a7-4dcb-8a08-fbd2dd508d52",
   "metadata": {},
   "outputs": [],
   "source": [
    "analsis"
   ]
  }
 ],
 "metadata": {
  "kernelspec": {
   "display_name": "Python 3 (ipykernel)",
   "language": "python",
   "name": "python3"
  },
  "language_info": {
   "codemirror_mode": {
    "name": "ipython",
    "version": 3
   },
   "file_extension": ".py",
   "mimetype": "text/x-python",
   "name": "python",
   "nbconvert_exporter": "python",
   "pygments_lexer": "ipython3",
   "version": "3.10.12"
  }
 },
 "nbformat": 4,
 "nbformat_minor": 5
}
