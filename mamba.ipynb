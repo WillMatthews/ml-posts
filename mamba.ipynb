{
 "cells": [
  {
   "cell_type": "code",
   "execution_count": null,
   "id": "9c7af6ce-84d0-4aa9-9340-35a47048fef6",
   "metadata": {},
   "outputs": [],
   "source": []
  },
  {
   "cell_type": "markdown",
   "id": "88fbd571-a385-475e-bf90-4166a78fc0f5",
   "metadata": {},
   "source": [
    "# Mamba\n",
    "\n",
    "The majority of foundation models which power modern LLMs is based on the [transformer] model.\n",
    "Unsurprisingly, the transformer does really well!\n",
    "When executed perfectly it can have [photographic memory](https://storage.googleapis.com/deepmind-media/gemini/gemini_v1_5_report.pdf) of all the input.\n",
    "A drawback of transformers is their compute requirements.\n",
    "[Mamba](https://arxiv.org/abs/2312.00752) is an interesting way of \n",
    "\n"
   ]
  }
 ],
 "metadata": {
  "kernelspec": {
   "display_name": "Python 3 (ipykernel)",
   "language": "python",
   "name": "python3"
  },
  "language_info": {
   "codemirror_mode": {
    "name": "ipython",
    "version": 3
   },
   "file_extension": ".py",
   "mimetype": "text/x-python",
   "name": "python",
   "nbconvert_exporter": "python",
   "pygments_lexer": "ipython3",
   "version": "3.10.12"
  }
 },
 "nbformat": 4,
 "nbformat_minor": 5
}
